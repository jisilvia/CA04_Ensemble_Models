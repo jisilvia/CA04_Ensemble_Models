{
  "nbformat": 4,
  "nbformat_minor": 0,
  "metadata": {
    "colab": {
      "name": "CA04 - Ensemble Models",
      "provenance": []
    },
    "kernelspec": {
      "name": "python3",
      "display_name": "Python 3"
    }
  },
  "cells": [
    {
      "cell_type": "markdown",
      "metadata": {
        "id": "gQg5tR_pmY5W"
      },
      "source": [
        "## 1. Data Source and Contents\n",
        "\n",
        "The dataset is obtained from the Census Bureau and represents salaries of people along with seven demographic variables. The following is a description of our dataset:\n",
        "\n",
        "* **Number of target classes:** 2 ('>50K' and '<=50K') [ Labels: 1, 0 ]\n",
        "* **Number of attributes (Columns):** 7\n",
        "* **Number of instances (Rows):** 48,842"
      ]
    },
    {
      "cell_type": "code",
      "metadata": {
        "colab": {
          "base_uri": "https://localhost:8080/"
        },
        "id": "4RAPdP8W7m0_",
        "outputId": "d073f0bb-7732-45fb-f38b-b5ae804cfee3"
      },
      "source": [
        "# importing packages\n",
        "!pip install xgboost\n",
        "\n",
        "import pandas as pd\n",
        "import numpy as np\n",
        "import matplotlib.pyplot as plt\n",
        "\n",
        "from sklearn.tree import DecisionTreeClassifier\n",
        "from sklearn.model_selection import train_test_split\n",
        "from sklearn.preprocessing import LabelEncoder\n",
        "from sklearn.metrics import accuracy_score\n",
        "from sklearn.ensemble import AdaBoostClassifier\n",
        "from sklearn.ensemble import GradientBoostingClassifier\n",
        "from xgboost import XGBClassifier\n",
        "from sklearn.metrics import roc_auc_score"
      ],
      "execution_count": null,
      "outputs": [
        {
          "output_type": "stream",
          "text": [
            "Requirement already satisfied: xgboost in /usr/local/lib/python3.7/dist-packages (0.90)\n",
            "Requirement already satisfied: numpy in /usr/local/lib/python3.7/dist-packages (from xgboost) (1.19.5)\n",
            "Requirement already satisfied: scipy in /usr/local/lib/python3.7/dist-packages (from xgboost) (1.4.1)\n"
          ],
          "name": "stdout"
        }
      ]
    },
    {
      "cell_type": "code",
      "metadata": {
        "colab": {
          "base_uri": "https://localhost:8080/"
        },
        "id": "hZZXK4jsySJR",
        "outputId": "f2376603-d79e-406f-e4e2-31a43833f886"
      },
      "source": [
        "# mounting drive\n",
        "from google.colab import drive\n",
        "drive.mount('/content/drive')"
      ],
      "execution_count": null,
      "outputs": [
        {
          "output_type": "stream",
          "text": [
            "Drive already mounted at /content/drive; to attempt to forcibly remount, call drive.mount(\"/content/drive\", force_remount=True).\n"
          ],
          "name": "stdout"
        }
      ]
    },
    {
      "cell_type": "code",
      "metadata": {
        "id": "3oGs_owYnBuT"
      },
      "source": [
        "# reading the data\n",
        "census_data = pd.read_csv('/content/drive/MyDrive/MSBA_Colab_2020/ML_Algorithms/CA04/Data/census_data.csv')"
      ],
      "execution_count": null,
      "outputs": []
    },
    {
      "cell_type": "code",
      "metadata": {
        "colab": {
          "base_uri": "https://localhost:8080/",
          "height": 204
        },
        "id": "8jW8okLqnZb4",
        "outputId": "87c2c4ea-b065-40b5-e444-9324642f508a"
      },
      "source": [
        "# checking out the dataset\n",
        "census_data.head()"
      ],
      "execution_count": null,
      "outputs": [
        {
          "output_type": "execute_result",
          "data": {
            "text/html": [
              "<div>\n",
              "<style scoped>\n",
              "    .dataframe tbody tr th:only-of-type {\n",
              "        vertical-align: middle;\n",
              "    }\n",
              "\n",
              "    .dataframe tbody tr th {\n",
              "        vertical-align: top;\n",
              "    }\n",
              "\n",
              "    .dataframe thead th {\n",
              "        text-align: right;\n",
              "    }\n",
              "</style>\n",
              "<table border=\"1\" class=\"dataframe\">\n",
              "  <thead>\n",
              "    <tr style=\"text-align: right;\">\n",
              "      <th></th>\n",
              "      <th>hours_per_week_bin</th>\n",
              "      <th>occupation_bin</th>\n",
              "      <th>msr_bin</th>\n",
              "      <th>capital_gl_bin</th>\n",
              "      <th>race_sex_bin</th>\n",
              "      <th>education_num_bin</th>\n",
              "      <th>education_bin</th>\n",
              "      <th>workclass_bin</th>\n",
              "      <th>age_bin</th>\n",
              "      <th>flag</th>\n",
              "      <th>y</th>\n",
              "    </tr>\n",
              "  </thead>\n",
              "  <tbody>\n",
              "    <tr>\n",
              "      <th>0</th>\n",
              "      <td>b. 31-40</td>\n",
              "      <td>b. Mid - Low</td>\n",
              "      <td>b. Mid</td>\n",
              "      <td>c. &gt; 0</td>\n",
              "      <td>c. High</td>\n",
              "      <td>c. 13</td>\n",
              "      <td>c. Bachelors</td>\n",
              "      <td>b. income</td>\n",
              "      <td>d. 36-40 &amp; 56-60</td>\n",
              "      <td>train</td>\n",
              "      <td>0</td>\n",
              "    </tr>\n",
              "    <tr>\n",
              "      <th>1</th>\n",
              "      <td>a. 0-30</td>\n",
              "      <td>e. High</td>\n",
              "      <td>c. High</td>\n",
              "      <td>a. = 0</td>\n",
              "      <td>c. High</td>\n",
              "      <td>c. 13</td>\n",
              "      <td>c. Bachelors</td>\n",
              "      <td>b. income</td>\n",
              "      <td>e. 40-55</td>\n",
              "      <td>train</td>\n",
              "      <td>0</td>\n",
              "    </tr>\n",
              "    <tr>\n",
              "      <th>2</th>\n",
              "      <td>b. 31-40</td>\n",
              "      <td>a. Low</td>\n",
              "      <td>b. Mid</td>\n",
              "      <td>a. = 0</td>\n",
              "      <td>c. High</td>\n",
              "      <td>b. 9-12</td>\n",
              "      <td>b. Mid</td>\n",
              "      <td>b. income</td>\n",
              "      <td>d. 36-40 &amp; 56-60</td>\n",
              "      <td>train</td>\n",
              "      <td>0</td>\n",
              "    </tr>\n",
              "    <tr>\n",
              "      <th>3</th>\n",
              "      <td>b. 31-40</td>\n",
              "      <td>a. Low</td>\n",
              "      <td>c. High</td>\n",
              "      <td>a. = 0</td>\n",
              "      <td>b. Mid</td>\n",
              "      <td>a. 0-8</td>\n",
              "      <td>a. Low</td>\n",
              "      <td>b. income</td>\n",
              "      <td>e. 40-55</td>\n",
              "      <td>train</td>\n",
              "      <td>0</td>\n",
              "    </tr>\n",
              "    <tr>\n",
              "      <th>4</th>\n",
              "      <td>b. 31-40</td>\n",
              "      <td>e. High</td>\n",
              "      <td>c. High</td>\n",
              "      <td>a. = 0</td>\n",
              "      <td>a. Low</td>\n",
              "      <td>c. 13</td>\n",
              "      <td>c. Bachelors</td>\n",
              "      <td>b. income</td>\n",
              "      <td>b. 26-30 &amp; 71-100</td>\n",
              "      <td>train</td>\n",
              "      <td>0</td>\n",
              "    </tr>\n",
              "  </tbody>\n",
              "</table>\n",
              "</div>"
            ],
            "text/plain": [
              "  hours_per_week_bin occupation_bin  msr_bin  ...            age_bin   flag  y\n",
              "0           b. 31-40   b. Mid - Low   b. Mid  ...   d. 36-40 & 56-60  train  0\n",
              "1            a. 0-30        e. High  c. High  ...           e. 40-55  train  0\n",
              "2           b. 31-40         a. Low   b. Mid  ...   d. 36-40 & 56-60  train  0\n",
              "3           b. 31-40         a. Low  c. High  ...           e. 40-55  train  0\n",
              "4           b. 31-40        e. High  c. High  ...  b. 26-30 & 71-100  train  0\n",
              "\n",
              "[5 rows x 11 columns]"
            ]
          },
          "metadata": {
            "tags": []
          },
          "execution_count": 177
        }
      ]
    },
    {
      "cell_type": "markdown",
      "metadata": {
        "id": "q3byfcu4mpXg"
      },
      "source": [
        "## 2. Finding Optimal Value of a Key Hyper-parameter\n",
        "For Ensemble Models, one of the key hyper-parameter is number of “estimators”. The following is an example of finding the optimal value of “Maximum Depth”. Review the following code snippet to understand how the optimal value of this hyper-parameter (Max Depth = 10) is found by plotting a graph."
      ]
    },
    {
      "cell_type": "code",
      "metadata": {
        "colab": {
          "base_uri": "https://localhost:8080/"
        },
        "id": "VRoU10rPpGyS",
        "outputId": "39944d39-1a02-46f5-8728-6488a3c27bc0"
      },
      "source": [
        "# encoding categorical values\n",
        "census_data_encoded = census_data.apply(LabelEncoder().fit_transform)\n",
        "census_data_encoded.dtypes\n",
        "\n",
        "# flag: train = 1, test = 0\n",
        "\n",
        "# seperating dataset into training (67%) and testing (33%) data\n",
        "X_train = census_data_encoded[census_data_encoded.flag==1].drop(['flag','y'], axis=1)\n",
        "X_test = census_data_encoded[census_data_encoded.flag==0].drop(['flag','y'], axis=1).reset_index(drop=True)\n",
        "\n",
        "y_train = census_data_encoded[census_data_encoded.flag==1][['y']]\n",
        "y_test = census_data_encoded[census_data_encoded.flag==0][['y']].reset_index(drop=True)\n",
        "\n",
        "# verifying shapes (split ratio)\n",
        "X_train.shape\n",
        "X_test.shape\n",
        "y_train.shape\n",
        "y_test.shape"
      ],
      "execution_count": null,
      "outputs": [
        {
          "output_type": "execute_result",
          "data": {
            "text/plain": [
              "(16281, 1)"
            ]
          },
          "metadata": {
            "tags": []
          },
          "execution_count": 178
        }
      ]
    },
    {
      "cell_type": "code",
      "metadata": {
        "colab": {
          "base_uri": "https://localhost:8080/"
        },
        "id": "2MV3XDHv7wbt",
        "outputId": "456a5ac9-f3b4-44d1-f0cb-6c4d59045671"
      },
      "source": [
        "# verifying that all categorical data has been transformed into numerical data\n",
        "census_data_encoded.info()"
      ],
      "execution_count": null,
      "outputs": [
        {
          "output_type": "stream",
          "text": [
            "<class 'pandas.core.frame.DataFrame'>\n",
            "RangeIndex: 48842 entries, 0 to 48841\n",
            "Data columns (total 11 columns):\n",
            " #   Column              Non-Null Count  Dtype\n",
            "---  ------              --------------  -----\n",
            " 0   hours_per_week_bin  48842 non-null  int64\n",
            " 1   occupation_bin      48842 non-null  int64\n",
            " 2   msr_bin             48842 non-null  int64\n",
            " 3   capital_gl_bin      48842 non-null  int64\n",
            " 4   race_sex_bin        48842 non-null  int64\n",
            " 5   education_num_bin   48842 non-null  int64\n",
            " 6   education_bin       48842 non-null  int64\n",
            " 7   workclass_bin       48842 non-null  int64\n",
            " 8   age_bin             48842 non-null  int64\n",
            " 9   flag                48842 non-null  int64\n",
            " 10  y                   48842 non-null  int64\n",
            "dtypes: int64(11)\n",
            "memory usage: 4.1 MB\n"
          ],
          "name": "stdout"
        }
      ]
    },
    {
      "cell_type": "code",
      "metadata": {
        "id": "dmpoGMVflIX0",
        "colab": {
          "base_uri": "https://localhost:8080/",
          "height": 295
        },
        "outputId": "e9822e5a-a74d-44c8-f1a0-162d4b6ba68a"
      },
      "source": [
        "# calculating accuracy score for each maximum depth value to find optimal max_depth\n",
        "\n",
        "results = []\n",
        "max_depth_options = [2,4,6,8,10,12,14,16,18,20] # different options for maximum tree depths \n",
        "\n",
        "for trees in max_depth_options: # iterates through every maximum depth value\n",
        "  model = DecisionTreeClassifier(max_depth=trees, random_state=101) # creates Decision Tree model for each maximum depth value \n",
        "  model.fit(X_train, y_train) # fits model with training data defined above\n",
        "  y_pred = model.predict(X_test)  # predicting outcomes (y) using outcome features of test data\n",
        "  accuracy = accuracy_score(y_test, y_pred) # calculating accuracy score of prediction (used in palce of np.mean)\n",
        "  results.append(accuracy)  # appends accuracy scores to empty results list \n",
        "\n",
        "\n",
        "#plotting result\n",
        "\n",
        "plt.figure(figsize=(8,4))\n",
        "pd.Series(results, max_depth_options).plot(color='darkred', marker='o')\n",
        "plt.title('Decision Tree Model: Accuracy vs Optimal Maximum Depth')\n",
        "plt.xlabel('Maximum Depth')\n",
        "plt.ylabel('Accuracy')\n",
        "plt.grid()\n",
        "plt.show()"
      ],
      "execution_count": null,
      "outputs": [
        {
          "output_type": "display_data",
          "data": {
            "image/png": "[encoded data removed]",
            "text/plain": [
              "<Figure size 576x288 with 1 Axes>"
            ]
          },
          "metadata": {
            "tags": [],
            "needs_background": "light"
          }
        }
      ]
    },
    {
      "cell_type": "markdown",
      "metadata": {
        "id": "oZStl3SI3m9D"
      },
      "source": [
        "## 3. Building a Random Forest Model\n",
        "Using Notebook, and the same data source from CA03, train a Random Forest Model. Using similar approach of Section 2 above, plot a graph of Accuracy vs. n_estimator. Use n_estimator values as [50,100,150,200,250,300,350,400,450,500]."
      ]
    },
    {
      "cell_type": "code",
      "metadata": {
        "colab": {
          "base_uri": "https://localhost:8080/",
          "height": 296
        },
        "id": "0sIso9-u33wf",
        "outputId": "72408b1f-f5de-4ba7-e2fc-e94e180d210d"
      },
      "source": [
        "# calculating accuracy score for each n_estimator value to find optimal n_estimator\n",
        "\n",
        "n_estimator_options = [50,100,150,200,250,300,350,400,450,500] # n_estimator values\n",
        "results = []\n",
        "\n",
        "for trees in n_estimator_options:  # iterates through list of n_values\n",
        "  model = RandomForestClassifier(n_estimators=trees, max_features='auto', random_state=101) # applies Random Forest model to each n_estimator value. Changing shape of y to match n_samples using .ravel()\n",
        "  model.fit(X_train, y_train.values.ravel()) # fits model using train and test data defined above. \n",
        "  y_pred = model.predict(X_test)  # predicting outcomes (y) using outcome features of test data\n",
        "  accuracy = accuracy_score(y_test, y_pred) # calculating accuracy score of prediction\n",
        "  results.append(accuracy)  # appends accuracy score of each n_estimator value to results list\n",
        "\n",
        "\n",
        "# plotting result\n",
        "\n",
        "plt.figure(figsize=(8,4))\n",
        "pd.Series(results, n_estimator_options).plot(color='darkblue', marker = 'o')\n",
        "plt.title('Random Forest Model: Accuracy vs n_estimator')\n",
        "plt.xlabel('n_estimator')\n",
        "plt.ylabel('Accuracy')\n",
        "plt.grid()\n",
        "plt.show()"
      ],
      "execution_count": null,
      "outputs": [
        {
          "output_type": "display_data",
          "data": {
            "image/png": "[encoded data removed]",
            "text/plain": [
              "<Figure size 576x288 with 1 Axes>"
            ]
          },
          "metadata": {
            "tags": [],
            "needs_background": "light"
          }
        }
      ]
    },
    {
      "cell_type": "markdown",
      "metadata": {
        "id": "7t_Q1O9oFVMz"
      },
      "source": [
        "Answer the following question:\n",
        "1. **Write your observations about the Classifier’s behavior with respect to the\n",
        "number of estimators**\n",
        "\n",
        "> The plot returns a polynomial trendline. The accuracy score of the predictions gradually decreases when the n_estimator ranges between 50 and 250 trees. At 300 trees, the accuracy increases again before decreasing at 350. After, it gradually increases again until it reaches 500 trees. Thus, the model that uses the lowest n_estimator value produces the optimal results in terms of accuracy.\n",
        "\n",
        "\n",
        "\n",
        "\n",
        "2. **Is there an optimal value of the estimator within the given range?**\n",
        "\n",
        "> The optimal value of the estimator is 50 trees, which results in the highest accuracy score of 0.8384."
      ]
    },
    {
      "cell_type": "markdown",
      "metadata": {
        "id": "oYSTmxabIkmy"
      },
      "source": [
        "## 4. AdaBoost Model\n",
        "Using a similar process as in Section 3, build an AdaBoost Model and plot a graph of Accuracy vs n_estimator."
      ]
    },
    {
      "cell_type": "code",
      "metadata": {
        "colab": {
          "base_uri": "https://localhost:8080/",
          "height": 296
        },
        "id": "Q3_qAWWlI4rG",
        "outputId": "b8950171-bf0e-4498-eecc-1a64553192f5"
      },
      "source": [
        "# calculating accuracy score for each n_estimator value to find optimal n_estimator\n",
        "\n",
        "n_estimator_options = [50,100,150,200,250,300,350,400,450,500] # n_estimator values\n",
        "results = []\n",
        "\n",
        "for trees in n_estimator_options:  # iterates through list of n_values\n",
        "  model = AdaBoostClassifier(n_estimators=trees, random_state=101) # applies AdaBoost model to each n_estimator value. Changing shape of y to match n_samples using .ravel()\n",
        "  model.fit(X_train, y_train.values.ravel()) # fits model using train and test data defined above. \n",
        "  y_pred = model.predict(X_test)  # predicting outcomes (y) using outcome features of test data\n",
        "  accuracy = accuracy_score(y_test, y_pred) # calculating accuracy score of prediction\n",
        "  results.append(accuracy)  # appends accuracy score of each n_estimator value to results list\n",
        "\n",
        "\n",
        "# plotting result\n",
        "\n",
        "plt.figure(figsize=(8,4))\n",
        "pd.Series(results, n_estimator_options).plot(color='darkgreen', marker = 'o')\n",
        "plt.title('AdaBoost Model: Accuracy vs n_estimator')\n",
        "plt.xlabel('n_estimator')\n",
        "plt.ylabel('Accuracy')\n",
        "plt.grid()\n",
        "plt.show()"
      ],
      "execution_count": null,
      "outputs": [
        {
          "output_type": "display_data",
          "data": {
            "image/png": "[encoded data removed]",
            "text/plain": [
              "<Figure size 576x288 with 1 Axes>"
            ]
          },
          "metadata": {
            "tags": [],
            "needs_background": "light"
          }
        }
      ]
    },
    {
      "cell_type": "markdown",
      "metadata": {
        "id": "BSxC6M2gJ_QU"
      },
      "source": [
        "1. **Write your observations about the Classifier’s behavior with respect to the\n",
        "number of estimators**\n",
        "\n",
        "> The accuracy score starts at a low with 50 trees, but then peaks with 100-150 trees. It decreases again once it reaches 200, and stays constant until 500 trees. To obtain the optimal results, a relatively low n_estimator value should be used. Note that there is an improvement in the overall accuracy scores compared to the Random Forest Model.\n",
        "\n",
        "2. **Is there an optimal value of the estimator within the given range?**\n",
        "\n",
        "> The optimal value of the estimator is 100-150 trees, which results in the highest accuracy scores of 0.844915."
      ]
    },
    {
      "cell_type": "markdown",
      "metadata": {
        "id": "RVg82LESKxIq"
      },
      "source": [
        "## 4. Gradient Boost Model (classifier)\n",
        "Using a similar process as in Section 3, build an Gradient Boost Model and plot a graph of Accuracy vs n_estimator."
      ]
    },
    {
      "cell_type": "code",
      "metadata": {
        "colab": {
          "base_uri": "https://localhost:8080/",
          "height": 296
        },
        "id": "NEuyDEVHLMWi",
        "outputId": "9472a8e3-7ea1-484c-d63f-bd51d74752df"
      },
      "source": [
        "# calculating accuracy score for each n_estimator value to find optimal n_estimator\n",
        "\n",
        "n_estimator_options = [50,100,150,200,250,300,350,400,450,500] # n_estimator values\n",
        "results = []\n",
        "\n",
        "for trees in n_estimator_options:  # iterates through list of n_values\n",
        "  model = GradientBoostingClassifier(n_estimators=trees, random_state=101) # applies Gradient Boost model to each n_estimator value. Changing shape of y to match n_samples using .ravel()\n",
        "  model.fit(X_train, y_train.values.ravel()) # fits model using train and test data defined above. \n",
        "  y_pred = model.predict(X_test)  # predicting outcomes (y) using outcome features of test data\n",
        "  accuracy = accuracy_score(y_test, y_pred) # calculating accuracy score of prediction\n",
        "  results.append(accuracy)  # appends accuracy score of each n_estimator value to results list\n",
        "\n",
        "\n",
        "# plotting result\n",
        "\n",
        "plt.figure(figsize=(8,4))\n",
        "pd.Series(results, n_estimator_options).plot(color='darkorange', marker = 'o')\n",
        "plt.title('Gradient Boost Model: Accuracy vs n_estimator')\n",
        "plt.xlabel('n_estimator')\n",
        "plt.ylabel('Accuracy')\n",
        "plt.grid()\n",
        "plt.show()"
      ],
      "execution_count": null,
      "outputs": [
        {
          "output_type": "display_data",
          "data": {
            "image/png": "[encoded data removed]",
            "text/plain": [
              "<Figure size 576x288 with 1 Axes>"
            ]
          },
          "metadata": {
            "tags": [],
            "needs_background": "light"
          }
        }
      ]
    },
    {
      "cell_type": "markdown",
      "metadata": {
        "id": "wGyKF5TWL0vv"
      },
      "source": [
        "1. **Write your observations about the Classifier’s behavior with respect to the\n",
        "number of estimators**\n",
        "\n",
        "> The graph returned a polynomial trendline. With 50 trees, the accuracy score is relatively high but then decreases within the 100-200 tree range. In the range of 250-500 trees, the trendline fluctuates heaviliy but reaches peak accuracy at 350 trees. Thus, a medium-high n_estimator value should be used to obtain optimal results. Note that the accuracy score using the Gradient Boost model is higher than that using the AdaBoost or Random Forest model.\n",
        "\n",
        "2. **Is there an optimal value of the estimator within the given range?**\n",
        "\n",
        "> The optimal value of the estimator is 350 trees, which results in the highest accuracy scores of 0.8472."
      ]
    },
    {
      "cell_type": "markdown",
      "metadata": {
        "id": "QIjVgA2jNQGC"
      },
      "source": [
        "## 4. XGBoost Model\n",
        "Using a similar process as in Section 3, build an Gradient Boost Model and plot a graph of Accuracy vs n_estimator.\n",
        "\n"
      ]
    },
    {
      "cell_type": "code",
      "metadata": {
        "colab": {
          "base_uri": "https://localhost:8080/",
          "height": 296
        },
        "id": "xmYZ5gV_OIEB",
        "outputId": "0e06b11e-7456-4fa9-c8ce-fc866578b64f"
      },
      "source": [
        "# calculating accuracy score for each n_estimator value to find optimal n_estimator\n",
        "\n",
        "n_estimator_options = [50,100,150,200,250,300,350,400,450,500] # n_estimator values\n",
        "results = []\n",
        "\n",
        "for trees in n_estimator_options:  # iterates through list of n_values\n",
        "  model = XGBClassifier(n_estimators=trees, random_state=101) # applies XGBoost Model to each n_estimator value. Changing shape of y to match n_samples using .ravel()\n",
        "  model.fit(X_train, y_train.values.ravel()) # fits model using train and test data defined above. \n",
        "  y_pred = model.predict(X_test)  # predicting outcomes (y) using outcome features of test data\n",
        "  accuracy = accuracy_score(y_test, y_pred) # calculating accuracy score of prediction\n",
        "  results.append(accuracy)  # appends accuracy score of each n_estimator value to results list\n",
        "\n",
        "\n",
        "# plotting result\n",
        "\n",
        "plt.figure(figsize=(8,4))\n",
        "pd.Series(results, n_estimator_options).plot(color='indigo', marker = 'o')\n",
        "plt.title('XGBoost Model: Accuracy vs n_estimator')\n",
        "plt.xlabel('n_estimator')\n",
        "plt.ylabel('Accuracy')\n",
        "plt.grid()\n",
        "plt.show()"
      ],
      "execution_count": null,
      "outputs": [
        {
          "output_type": "display_data",
          "data": {
            "image/png": "[encoded data removed]",
            "text/plain": [
              "<Figure size 576x288 with 1 Axes>"
            ]
          },
          "metadata": {
            "tags": [],
            "needs_background": "light"
          }
        }
      ]
    },
    {
      "cell_type": "markdown",
      "metadata": {
        "id": "xv9nV3XROoio"
      },
      "source": [
        "1. **Write your observations about the Classifier’s behavior with respect to thenumber of estimators**\n",
        "\n",
        "> The graph returned a trendline that follows a non-linear downward trend. It returns the highest accuracy score at 100 trees. Despite there are small increases in accuracy, it gradually decreases until it reaches 500 trees. \n",
        "Thus, a relatively low n_estimator value should be used to obtain optimal results. The range of accuracy scores is comparable to those when using the Gradient Boost Model.\n",
        "\n",
        "2. **Is there an optimal value of the estimator within the given range?**\n",
        "\n",
        "> The optimal value of the estimator is 100 trees, which results in the highest accuracy scores of about 0.84715."
      ]
    },
    {
      "cell_type": "markdown",
      "metadata": {
        "id": "CGsdPcZCPjIT"
      },
      "source": [
        "## 5. Compare Performance\n",
        "Keep all common Hyper-parameters same for four models (Random Forest, AdaBoost, Gradient Boost, XGB), run them again and create a performance comparison table within your.\n",
        "Also, print the values of all COMMON Hyper-parameters below this table (from code)"
      ]
    },
    {
      "cell_type": "code",
      "metadata": {
        "colab": {
          "base_uri": "https://localhost:8080/"
        },
        "id": "EhOA8e_zT2Rt",
        "outputId": "933bc11b-a817-4bf3-fda8-dabbf15cfe04"
      },
      "source": [
        "# re-calculating accuracy score with n_estimator = 250\n",
        "n_value = 250\n",
        "accuracy_results = []\n",
        "\n",
        "# calculating values and appending results to list\n",
        "\n",
        "# random forest\n",
        "model_rf = RandomForestClassifier(n_estimators=n_value, max_features='auto', random_state=101)\n",
        "model_rf.fit(X_train, y_train.values.ravel())\n",
        "y_pred_rf = model_rf.predict(X_test)\n",
        "accuracy_results.append(accuracy_score(y_test, y_pred_rf))\n",
        "\n",
        "# ada boost\n",
        "model_ada = AdaBoostClassifier(n_estimators=n_value, random_state=101)\n",
        "model_ada.fit(X_train, y_train.values.ravel())\n",
        "y_pred_ada = model_ada.predict(X_test)\n",
        "accuracy_results.append(accuracy_score(y_test, y_pred_ada))\n",
        "\n",
        "# gradient boost\n",
        "model_gb = GradientBoostingClassifier(n_estimators=n_value, random_state=101)\n",
        "model_gb.fit(X_train, y_train.values.ravel())\n",
        "y_pred_gb = model_gb.predict(X_test)\n",
        "accuracy_results.append(accuracy_score(y_test, y_pred_gb))\n",
        "\n",
        "# XGB\n",
        "model_xgb = XGBClassifier(n_estimators=n_value, random_state=101)\n",
        "model_xgb.fit(X_train, y_train.values.ravel())\n",
        "y_pred_xgb = model_xgb.predict(X_test)\n",
        "accuracy_results.append(accuracy_score(y_test, y_pred_xgb))\n",
        "\n",
        "accuracy_results"
      ],
      "execution_count": null,
      "outputs": [
        {
          "output_type": "execute_result",
          "data": {
            "text/plain": [
              "[0.8370493212947607, 0.8447884036607088, 0.847122412628217, 0.8467538848965052]"
            ]
          },
          "metadata": {
            "tags": []
          },
          "execution_count": 185
        }
      ]
    },
    {
      "cell_type": "code",
      "metadata": {
        "colab": {
          "base_uri": "https://localhost:8080/"
        },
        "id": "FUlgWFGJaB2C",
        "outputId": "bba40563-3e9f-47d3-dafd-4128190317ce"
      },
      "source": [
        "# calculating AUC score with n_estimator = 250\n",
        "auc_results = []\n",
        "\n",
        "# calculating values and appending results to list\n",
        "auc_results.append(roc_auc_score(y_test, y_pred_rf))\n",
        "auc_results.append(roc_auc_score(y_test, y_pred_ada))\n",
        "auc_results.append(roc_auc_score(y_test, y_pred_gb))\n",
        "auc_results.append(roc_auc_score(y_test, y_pred_xgb))\n",
        "\n",
        "auc_results"
      ],
      "execution_count": null,
      "outputs": [
        {
          "output_type": "execute_result",
          "data": {
            "text/plain": [
              "[0.7450719090283514,\n",
              " 0.7460076328264228,\n",
              " 0.7598376456168019,\n",
              " 0.7597759833191879]"
            ]
          },
          "metadata": {
            "tags": []
          },
          "execution_count": 186
        }
      ]
    },
    {
      "cell_type": "code",
      "metadata": {
        "colab": {
          "base_uri": "https://localhost:8080/",
          "height": 145
        },
        "id": "mVFSNyBXP39U",
        "outputId": "e1e1e86c-7e2f-4a09-8c45-b45cc96025c7"
      },
      "source": [
        "results = []\n",
        "results.append([accuracy_results, auc_results])\n",
        "\n",
        "# creating empty table\n",
        "performance = pd.DataFrame(index=['Accuracy','AUC'],columns=['Random Forst','AdaBoost','Gradient Boost','XGB'])\n",
        "performance.loc['Accuracy'] = accuracy_results\n",
        "performance.loc['AUC'] = auc_results\n",
        "\n",
        "# find common parameters\n",
        "rf_hp = model_rf.get_params()\n",
        "ada_hp = model_ada.get_params()\n",
        "gb_hp = model_gb.get_params()\n",
        "xgb_hp = model_xgb.get_params()\n",
        "\n",
        "common_hp = rf_hp.keys() & ada_hp.keys() & gb_hp.keys() & xgb_hp.keys()\n",
        "\n",
        "display(performance)\n",
        "\n",
        "print('\\nThe common hyperparameters are ', common_hp)"
      ],
      "execution_count": null,
      "outputs": [
        {
          "output_type": "display_data",
          "data": {
            "text/html": [
              "<div>\n",
              "<style scoped>\n",
              "    .dataframe tbody tr th:only-of-type {\n",
              "        vertical-align: middle;\n",
              "    }\n",
              "\n",
              "    .dataframe tbody tr th {\n",
              "        vertical-align: top;\n",
              "    }\n",
              "\n",
              "    .dataframe thead th {\n",
              "        text-align: right;\n",
              "    }\n",
              "</style>\n",
              "<table border=\"1\" class=\"dataframe\">\n",
              "  <thead>\n",
              "    <tr style=\"text-align: right;\">\n",
              "      <th></th>\n",
              "      <th>Random Forst</th>\n",
              "      <th>AdaBoost</th>\n",
              "      <th>Gradient Boost</th>\n",
              "      <th>XGB</th>\n",
              "    </tr>\n",
              "  </thead>\n",
              "  <tbody>\n",
              "    <tr>\n",
              "      <th>Accuracy</th>\n",
              "      <td>0.837049</td>\n",
              "      <td>0.844788</td>\n",
              "      <td>0.847122</td>\n",
              "      <td>0.846754</td>\n",
              "    </tr>\n",
              "    <tr>\n",
              "      <th>AUC</th>\n",
              "      <td>0.745072</td>\n",
              "      <td>0.746008</td>\n",
              "      <td>0.759838</td>\n",
              "      <td>0.759776</td>\n",
              "    </tr>\n",
              "  </tbody>\n",
              "</table>\n",
              "</div>"
            ],
            "text/plain": [
              "         Random Forst  AdaBoost Gradient Boost       XGB\n",
              "Accuracy     0.837049  0.844788       0.847122  0.846754\n",
              "AUC          0.745072  0.746008       0.759838  0.759776"
            ]
          },
          "metadata": {
            "tags": []
          }
        },
        {
          "output_type": "stream",
          "text": [
            "\n",
            "The common hyperparameters are  {'random_state', 'n_estimators'}\n"
          ],
          "name": "stdout"
        }
      ]
    }
  ]
}